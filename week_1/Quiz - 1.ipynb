{
 "cells": [
  {
   "cell_type": "code",
   "execution_count": 1,
   "metadata": {},
   "outputs": [],
   "source": [
    "# What does h(19685) return for the following function definition?"
   ]
  },
  {
   "cell_type": "code",
   "execution_count": 2,
   "metadata": {},
   "outputs": [
    {
     "data": {
      "text/plain": [
       "10"
      ]
     },
     "execution_count": 2,
     "metadata": {},
     "output_type": "execute_result"
    }
   ],
   "source": [
    "def h(x):\n",
    "    (d,n) = (1,0)\n",
    "    while d <= x:\n",
    "        (d,n) = (d*3,n+1)\n",
    "    return(n)\n",
    "\n",
    "h(19685)"
   ]
  },
  {
   "cell_type": "code",
   "execution_count": 5,
   "metadata": {},
   "outputs": [
    {
     "data": {
      "text/plain": [
       "5"
      ]
     },
     "execution_count": 5,
     "metadata": {},
     "output_type": "execute_result"
    }
   ],
   "source": [
    "# What is g(36) - g(35), given the definition of g below?\n",
    "def g(n): \n",
    "    s=0\n",
    "    for i in range(2,n):\n",
    "        if n%i == 0:\n",
    "           s = s+1\n",
    "    return(s)\n",
    "\n",
    "g(36) - g(35)"
   ]
  },
  {
   "cell_type": "code",
   "execution_count": 9,
   "metadata": {},
   "outputs": [
    {
     "data": {
      "text/plain": [
       "False"
      ]
     },
     "execution_count": 9,
     "metadata": {},
     "output_type": "execute_result"
    }
   ],
   "source": [
    "# Consider the following function f.\n",
    "def f(n): \n",
    "    s=0\n",
    "    for i in range(1,n+1):\n",
    "        if n//i == i and n%i == 0:\n",
    "           s = 1\n",
    "    return(s%2 == 1)\n",
    "\n",
    "f(18)"
   ]
  },
  {
   "cell_type": "code",
   "execution_count": 17,
   "metadata": {},
   "outputs": [
    {
     "data": {
      "text/plain": [
       "6"
      ]
     },
     "execution_count": 17,
     "metadata": {},
     "output_type": "execute_result"
    }
   ],
   "source": [
    "# Consider the following function foo.\n",
    "def foo(m):\n",
    "    if m == 0:\n",
    "      return(0)\n",
    "    else:\n",
    "      return(m+foo(m-1))\n",
    "foo(3)"
   ]
  },
  {
   "cell_type": "code",
   "execution_count": null,
   "metadata": {},
   "outputs": [],
   "source": []
  }
 ],
 "metadata": {
  "kernelspec": {
   "display_name": "Python 3",
   "language": "python",
   "name": "python3"
  },
  "language_info": {
   "codemirror_mode": {
    "name": "ipython",
    "version": 3
   },
   "file_extension": ".py",
   "mimetype": "text/x-python",
   "name": "python",
   "nbconvert_exporter": "python",
   "pygments_lexer": "ipython3",
   "version": "3.8.3"
  }
 },
 "nbformat": 4,
 "nbformat_minor": 4
}
