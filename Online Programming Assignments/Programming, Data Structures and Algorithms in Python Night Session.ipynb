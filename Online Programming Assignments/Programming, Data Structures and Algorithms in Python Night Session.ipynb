{
 "cells": [
  {
   "cell_type": "markdown",
   "metadata": {},
   "source": [
    "1.Here is an function to return the maximum value in a list of integers. There is an error in this function. Provide an input list for which maxbad produces an incorrect output."
   ]
  },
  {
   "cell_type": "code",
   "execution_count": 8,
   "metadata": {},
   "outputs": [],
   "source": [
    "def maxbad(l):\n",
    "    mymax = 0\n",
    "    for i in range(len(l)):\n",
    "        if l[i] > mymax:\n",
    "            mymax = l[i]\n",
    "    return(mymax)"
   ]
  },
  {
   "cell_type": "code",
   "execution_count": 9,
   "metadata": {},
   "outputs": [
    {
     "data": {
      "text/plain": [
       "0"
      ]
     },
     "execution_count": 9,
     "metadata": {},
     "output_type": "execute_result"
    }
   ],
   "source": [
    "l = [-112, -12, -63, -1, -25, -163, -5]\n",
    "maxbad(l)"
   ]
  },
  {
   "cell_type": "markdown",
   "metadata": {},
   "source": [
    "2.Here is a function stablesortbad that takes a list of pairs of integers as input and sorts them by the second coordinate in each pair. A stable sort preserves the order of pairs that have an equal second coordinate. This is not a stable sort. Provide an input for which stablesortbad produces an output that is not stably sorted. Your input should be a list of pairs of integers of the form [(i1,j1),(i2,j2),...,(in,jn)]."
   ]
  },
  {
   "cell_type": "code",
   "execution_count": 10,
   "metadata": {},
   "outputs": [],
   "source": [
    "def stablesortbad(l):\n",
    "    for j in range(len(l)-1):\n",
    "        for i in range(len(l)-1):\n",
    "            if l[i][1] >= l[i+1][1]:\n",
    "                (l[i],l[i+1]) =  (l[i+1],l[i])\n",
    "    return(l)    "
   ]
  },
  {
   "cell_type": "code",
   "execution_count": 11,
   "metadata": {},
   "outputs": [
    {
     "data": {
      "text/plain": [
       "[(8, 3), (5, 9), (77, 15), (12, 15)]"
      ]
     },
     "execution_count": 11,
     "metadata": {},
     "output_type": "execute_result"
    }
   ],
   "source": [
    "stablesortbad([(12, 15), (5, 9), (8, 3), (77, 15)])"
   ]
  },
  {
   "cell_type": "markdown",
   "metadata": {},
   "source": [
    "3.Here is a function to compute the third smallest value in a list of distinct integers. All the integers are guaranteed to be below 1000000. You have to fill in the missing lines. You can assume that there are at least three numbers in the list."
   ]
  },
  {
   "cell_type": "code",
   "execution_count": 12,
   "metadata": {},
   "outputs": [],
   "source": [
    "def thirdmin(l):\n",
    "    (mymin,mysecondmin,mythirdmin) = (1000000,1000000,1000000)\n",
    "    for i in range(len(l)):\n",
    "        # Your code below this line\n",
    "        l.sort()\n",
    "        mythirdmin = l[2]\n",
    "        break\n",
    "    return(mythirdmin)"
   ]
  },
  {
   "cell_type": "markdown",
   "metadata": {},
   "source": [
    "4. Recall that the positions in a list of length n are 0,1,…,n-1. We want to write a function oddpositions(l) that returns the elements at the odd positions in l. In other words, the function should return the list [l[1],l[3],...]. For instance oddpositions([]) == [], oddpositions([7]) == [], oddpositions([8,11,8]) == [11] and oddpositions([19,3,44,44,3,19]) == [3,44,19]. A recursive definition of oddpositions is given below. You have to fill in the missing argument for the recursive call."
   ]
  },
  {
   "cell_type": "code",
   "execution_count": 13,
   "metadata": {},
   "outputs": [],
   "source": [
    "def oddpositions(l):\n",
    "    if len(l) <= 1:\n",
    "        return([])\n",
    "    else:\n",
    "        return(\n",
    "       # Complete the recursive call below this line\n",
    "            [l[1]]+oddpositions(l[2:]))\n",
    "    "
   ]
  },
  {
   "cell_type": "markdown",
   "metadata": {},
   "source": [
    "5.A positive integer n is a sum of three squares if n = i2 + j2 + k2 for integers i,j,k such that i ≥ 1, j ≥ 1 and k ≥ 1. For instance, 29 is a sum of three squares because 10 = 22 + 32 + 42, and so is 6 (12 + 12 + 22). On the other hand, 16 and 20 are not sums of three squares.\n",
    "\n",
    "Write a Python function sumof3squares(n) that takes a positive integer argument and returns True if the integer is a sum of three squares, and False otherwise."
   ]
  },
  {
   "cell_type": "code",
   "execution_count": 14,
   "metadata": {},
   "outputs": [],
   "source": [
    "def sumof3squares(n):\n",
    "    f = 0\n",
    "    for i in range(1, int(n**(0.5)), 1):\n",
    "        for j in range(1, int(n**(0.5)), 1):\n",
    "            for k in range(1, int(n**(0.5)), 1):\n",
    "                if (i*i+j*j+k*k) == n:\n",
    "                    f = 1\n",
    "    return (f==1)"
   ]
  },
  {
   "cell_type": "markdown",
   "metadata": {},
   "source": [
    "6.Write a Python function intersect(l1,l2) that takes two sorted lists as arguments and returns the list of all elements common to both l1 and l2 in the same order that they appear in the two lists. If the same element occurs more than once in both lists, it should appear in the output exactly once.\n",
    "\n",
    "Thus, intersect([2,2,4],[1,2,2,3,4]) should return [2, 4] while intersect([1,2,3],[4,5,6]) should return []."
   ]
  },
  {
   "cell_type": "code",
   "execution_count": 15,
   "metadata": {},
   "outputs": [],
   "source": [
    "def intersect(l1, l2):\n",
    "    s = []\n",
    "    l = 0\n",
    "  \n",
    "    \n",
    "    for i in range(len(l1)):\n",
    "        for j in range(len(l2)):\n",
    "            if l1[i] == l2[j]:\n",
    "                if l1[i] not in s:\n",
    "                    s.append(l1[i])\n",
    "    return s"
   ]
  },
  {
   "cell_type": "markdown",
   "metadata": {},
   "source": [
    "7.Write a Python program that reads input from the keyboard (standard input). The input will consist of some number of lines of text. The input will be terminated by a blank line. The first line will consist of a single word to be interpreted as a pattern, after discarding the new line character. Your program should print the last line from the second line onward that contains an occurrence of the pattern. If no lines match the pattern, the program should print an empty line. You can assume that the input will have a non-empty pattern line. Recall that for a string s and a pattern p, s.find(p) returns the first position in s where p occurs, and returns -1 if p does not occur in s.\n",
    "\n",
    "For instance, if the input is the following:"
   ]
  },
  {
   "cell_type": "raw",
   "metadata": {},
   "source": [
    "the\n",
    "\"Spot the mistake\n",
    "in the following argument\",\n",
    "Jack challenged\n",
    "1+(-1+1)+(-1+1)+... = (1+ -1)+(1+ -1)+...\n",
    "so therefore,\n",
    "1 = 0\n",
    "??"
   ]
  },
  {
   "cell_type": "code",
   "execution_count": null,
   "metadata": {},
   "outputs": [],
   "source": [
    "s= []\n",
    "while 1:\n",
    "    a = input()\n",
    "    if (a==\"\"):\n",
    "        break\n",
    "    s.append(a)\n",
    "p = s[0]\n",
    "a = \"\"\n",
    "for i in range(len(s)-1, 0, -1):\n",
    "    if (s[i].find(p)!=-1):\n",
    "        a = s[i]\n",
    "        break\n",
    "print(a)"
   ]
  },
  {
   "cell_type": "markdown",
   "metadata": {},
   "source": [
    "8.Write a Python function maxaverage(l) that takes a list of pairs of the form (name,score) as argument, where name is a string and score is an integer. Each pair is to be interpreted as the score of the named player. For instance, an input of the form [('Kohli',73),('Ashwin',33),('Kohli',7),('Pujara',122),('Ashwin',90)] represents two scores of 73 and 7 for Kohli, two scores of 33 and 90 for Ashwin and one score of 122 for Pujara. Your function should compute the players who have the highest average score (average = total across all scores for that player divided by number of entries) and return the list of names of these players as a list, sorted in alphabetical order. If there is a single player, the list will contain a single name.\n",
    "\n",
    "For instance, maxaverage([('Kohli',73),('Ashwin',33),('Kohli',7),('Pujara',122),('Ashwin',90)]) should return ['Pujara'] because the average score of Kolhi is 40 (80 divided by 2), of Ashwin is 61.5 (123 divided by 2) and of Pujara is 122 (122 divided by 1), of which 122 is the highest."
   ]
  },
  {
   "cell_type": "code",
   "execution_count": 16,
   "metadata": {},
   "outputs": [],
   "source": [
    "def maxaverage(l):\n",
    "    d = {}\n",
    "    for i in l:\n",
    "        name, score = i\n",
    "        if name in d:\n",
    "            tot_score, num = d[name]\n",
    "            d[name] = (tot_score+score, num+1)\n",
    "        else:\n",
    "            d[name] = (score, 1)\n",
    "    max = -1\n",
    "    for key in d:\n",
    "        tot_score, num = d[key]\n",
    "        ave = tot_score/num\n",
    "        if max < ave:\n",
    "            max = ave\n",
    "    l = []\n",
    "    for key in d:\n",
    "        tot_score, num = d[key]\n",
    "        ave = tot_score/num\n",
    "        if max == ave:\n",
    "            l.append(key)\n",
    "    l.sort()\n",
    "    return l"
   ]
  },
  {
   "cell_type": "code",
   "execution_count": null,
   "metadata": {},
   "outputs": [],
   "source": []
  }
 ],
 "metadata": {
  "kernelspec": {
   "display_name": "Python 3",
   "language": "python",
   "name": "python3"
  },
  "language_info": {
   "codemirror_mode": {
    "name": "ipython",
    "version": 3
   },
   "file_extension": ".py",
   "mimetype": "text/x-python",
   "name": "python",
   "nbconvert_exporter": "python",
   "pygments_lexer": "ipython3",
   "version": "3.8.3"
  }
 },
 "nbformat": 4,
 "nbformat_minor": 4
}
