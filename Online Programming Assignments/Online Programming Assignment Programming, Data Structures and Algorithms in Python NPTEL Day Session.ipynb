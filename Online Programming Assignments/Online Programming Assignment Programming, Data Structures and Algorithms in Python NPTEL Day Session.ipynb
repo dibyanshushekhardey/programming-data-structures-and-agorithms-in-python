{
 "cells": [
  {
   "cell_type": "markdown",
   "metadata": {},
   "source": [
    "1.Here is a function isprimebad that takes a positive integer as input and returns True if the number is prime and False otherwise. There is an error in this function. Provide an input n, which is a positive integer, for which isprimebad produces an incorrect output."
   ]
  },
  {
   "cell_type": "raw",
   "metadata": {},
   "source": [
    "import math\n",
    "\n",
    "def isprimebad(n):\n",
    "  if n < 2:\n",
    "    return(False)\n",
    "  else:\n",
    "    for i in range(2, int(math.sqrt(n))):\n",
    "      if n%i == 0:\n",
    "         return(False)\n",
    "    return(True)"
   ]
  },
  {
   "cell_type": "markdown",
   "metadata": {},
   "source": [
    "Open up the code submission box below and write your test case where you would normally paste your code. Your input should be a single integer n."
   ]
  },
  {
   "cell_type": "code",
   "execution_count": 26,
   "metadata": {},
   "outputs": [
    {
     "data": {
      "text/plain": [
       "9"
      ]
     },
     "execution_count": 26,
     "metadata": {},
     "output_type": "execute_result"
    }
   ],
   "source": [
    "9"
   ]
  },
  {
   "cell_type": "markdown",
   "metadata": {},
   "source": [
    "2.Here is a function lexsortbad that takes a list of pairs of integers as input and returns them in lexicographically sorted order (i.e., dictionary order). There is an error is this function. Provide an input for which lexsortbad produces an incorrect output. Your input should be a list of pairs of integers of the form [(i1,j1),(i2,j2),...,(in,jn)]."
   ]
  },
  {
   "cell_type": "raw",
   "metadata": {},
   "source": [
    "def lexsortbad(l):\n",
    "  for k in range(2):\n",
    "    for j in range(len(l)-1):\n",
    "      for i in range(len(l)-1):\n",
    "        if l[i][k] > l[i+1][k]:\n",
    "          (l[i],l[i+1]) = (l[i+1],l[i])\n",
    "  return(l)"
   ]
  },
  {
   "cell_type": "markdown",
   "metadata": {},
   "source": [
    "Open up the code submission box below and write your test case where you would normally paste your code. Your input should be a list of pairs of integers of the form [(i1,j1),(i2,j2),...,(in,jn)]."
   ]
  },
  {
   "cell_type": "code",
   "execution_count": 27,
   "metadata": {},
   "outputs": [
    {
     "data": {
      "text/plain": [
       "[(1, 0), (1, 9), (3, 0), (4, 1), (4, 2), (4, 4), (5, 4)]"
      ]
     },
     "execution_count": 27,
     "metadata": {},
     "output_type": "execute_result"
    }
   ],
   "source": [
    "[(1, 0), (1, 9), (3, 0), (4, 1), (4, 2), (4, 4), (5, 4)]"
   ]
  },
  {
   "cell_type": "markdown",
   "metadata": {},
   "source": [
    "3.Here is a function to compute the smallest of three input integers. You have to fill in the missing lines."
   ]
  },
  {
   "cell_type": "raw",
   "metadata": {},
   "source": [
    "def min3(x,y,z):\n",
    "  if x <= y:\n",
    "    if x <= z:\n",
    "      minimum = x\n",
    "  # Your code below this line\n",
    "\n",
    "\n",
    "  # Your code above this line\n",
    "  return(minimum)"
   ]
  },
  {
   "cell_type": "markdown",
   "metadata": {},
   "source": [
    "Open up the code submission box below and fill in the gap in the code. Ensure that you maintain correct indentation."
   ]
  },
  {
   "cell_type": "code",
   "execution_count": 28,
   "metadata": {},
   "outputs": [],
   "source": [
    "def min3(x,y,z):\n",
    "    if x <= y:\n",
    "        if x <= z:\n",
    "            minimum = x\n",
    "      # Your code below this line\n",
    "        if y <= z:\n",
    "            if y <= x:\n",
    "                minimum = y\n",
    "        if z <= y:\n",
    "            if z <= x:\n",
    "                minimum = z\n",
    "    return (minimum)"
   ]
  },
  {
   "cell_type": "markdown",
   "metadata": {},
   "source": [
    "4.A list is a non-decreasing if each element is at least as big as the preceding one. For instance [], [7], [8,8,11] and [3,19,44,44,63,89] are non-decreasing, while [3,18,4] and [23,14,3,14,3,23] are not. Here is a recursive function to check if a list is non-decreasing. You have to fill in the missing argument for the recursive call."
   ]
  },
  {
   "cell_type": "raw",
   "metadata": {},
   "source": [
    "def nondecreasing(l):\n",
    "  if l==[] or len(l) == 1:\n",
    "    return(True)\n",
    "  else:\n",
    "    return(...)"
   ]
  },
  {
   "cell_type": "markdown",
   "metadata": {},
   "source": [
    "Open up the code submission box below and fill in the missing argument for the recursive call."
   ]
  },
  {
   "cell_type": "code",
   "execution_count": 29,
   "metadata": {},
   "outputs": [],
   "source": [
    "def nondecreasing(l):\n",
    "    if l==[] or len(l) == 1:\n",
    "        return(True)\n",
    "    else:\n",
    "        return(\n",
    "       # Complete the recursive call below this line\n",
    "        nondecreasing(l[1:]) if l[0] <= l[1] else False)"
   ]
  },
  {
   "cell_type": "markdown",
   "metadata": {},
   "source": [
    "8.Write a Python function maxaggregate(l) that takes a list of pairs of the form (name,score) as argument, where name is a string and score is an integer. Each pair is to be interpreted as the score of the named player. For instance, an input of the form [('Kohli',73),('Ashwin',33),('Kohli',7),('Pujara',122),('Ashwin',90)] represents two scores of 73 and 7 for Kohli, two scores of 33 and 90 for Ashwin and one score of 122 for Pujara. Your function should compute the players who have the highest aggregate score (aggegrate = total, so add up all scores for that name) and return the list of names of these players as a list, sorted in alphabetical order. If there is a single player, the list will contain a single name.\n",
    "\n",
    "For instance, maxaggregate([('Kohli',73),('Ashwin',33),('Kohli',7),('Pujara',122),('Ashwin',90)]) should return ['Ashwin'] because the aggregate score of Kolhi is 80, of Ashwin is 123 and of Pujara is 122, of which 123 is the highest."
   ]
  },
  {
   "cell_type": "code",
   "execution_count": 30,
   "metadata": {},
   "outputs": [],
   "source": [
    "def maxaggregate(players):\n",
    "\n",
    "    run_dict = {} #players against runs dictionary\n",
    "    max_aggregate = 0\n",
    "    top_run_players = [] #final result array\n",
    "\n",
    "    #this loop for creating dict of players and their aggregate score\n",
    "    for player in players:\n",
    "        if(player[0] in run_dict):\n",
    "            run_dict[player[0]] += player[1]\n",
    "        else:\n",
    "            run_dict[player[0]] = player[1]\n",
    "\n",
    "    #this loop for inserting the max aggregate score player in top_run_players \n",
    "\n",
    "    for player in run_dict:\n",
    "        if(max_aggregate < run_dict[player]):\n",
    "            max_aggregate = run_dict[player]\n",
    "            players.clear()\n",
    "            players.append(player)\n",
    "        elif(max_aggregate == run_dict[player]):\n",
    "            players.append(player)\n",
    "\n",
    "    #sorting players according to their name\n",
    "    players.sort()\n",
    "    return players"
   ]
  },
  {
   "cell_type": "markdown",
   "metadata": {},
   "source": [
    "6.Write a Python function subsequence(l1,l2) that takes two sorted lists as arguments and returns True if the the first list is a subsequence of the second list, and returns False otherwise.\n",
    "\n",
    "A subsequence of a list is obtained by dropping some values. Thus, [2,3,4] and [2,2,5] are subsequences of [2,2,3,4,5], but [2,4,4] and [2,4,3] are not."
   ]
  },
  {
   "cell_type": "code",
   "execution_count": 31,
   "metadata": {},
   "outputs": [],
   "source": [
    "def subsequence(l1, l2):\n",
    "    new = []\n",
    "    for i in l1:\n",
    "        if i in l2:\n",
    "            new.append(i)\n",
    "            l2[l2.index(i)]=3.33*i\n",
    "    return (len(new)==len(l1))"
   ]
  },
  {
   "cell_type": "markdown",
   "metadata": {},
   "source": [
    "5.A positive integer n is a sum of squares if n = i2 + j2 for integers i,j such that i ≥ 1 and j ≥ 1. For instance, 10 is a sum of squares because 10 = 12 + 32, and so is 25 (32 + 42). On the other hand, 11 and 3 are not sums of squares.\n",
    "\n",
    "Write a Python function sumofsquares(n) that takes a positive integer argument and returns True if the integer is a sum of squares, and False otherwise."
   ]
  },
  {
   "cell_type": "code",
   "execution_count": 1,
   "metadata": {},
   "outputs": [],
   "source": [
    "def sumofsquares(n):\n",
    "    i = 1\n",
    "    while i * i <= n:\n",
    "        j = 1\n",
    "        while (j*j <= n):\n",
    "            if (i*i + j*j == n):\n",
    "                return True\n",
    "        j += 1\n",
    "    i += 1\n",
    "    return False"
   ]
  },
  {
   "cell_type": "markdown",
   "metadata": {},
   "source": [
    "7.Write a Python program that reads input from the keyboard (standard input). The input will consist of some number of lines of text. The input will be terminated by a blank line. The first line will consist of a single word to be interpreted as a pattern, after discarding the new line character. Your program should print every line from the second line onward that contains an occurrence of the pattern. You can assume that the input will have a non-empty pattern line. Recall that for a string s and a pattern p, s.find(p) returns the first position in s where p occurs, and returns -1 if p does not occur in s.\n",
    "\n",
    "For instance, if the input is the following:"
   ]
  },
  {
   "cell_type": "raw",
   "metadata": {},
   "source": [
    "the\n",
    "\"Spot the mistake\n",
    "in the following argument\",\n",
    "Jack challenged\n",
    "1+(-1+1)+(-1+1)+... = (1+ -1)+(1+ -1)+...\n",
    "so therefore,\n",
    "1 = 0\n",
    "??"
   ]
  },
  {
   "cell_type": "markdown",
   "metadata": {},
   "source": [
    "then your program should print the following. Note that the pattern string the is matched by the word therefore."
   ]
  },
  {
   "cell_type": "raw",
   "metadata": {},
   "source": [
    "\"Spot the mistake\n",
    "in the following argument\",\n",
    "so therefore,"
   ]
  },
  {
   "cell_type": "code",
   "execution_count": null,
   "metadata": {},
   "outputs": [],
   "source": [
    "p=input()\n",
    "A=1\n",
    "while 1:\n",
    "    ip=input()\n",
    "    if ip==\" \":\n",
    "        break\n",
    "    if ip.find(p)==-1:\n",
    "        continue\n",
    "    else:\n",
    "        print(ip)\n",
    "    A+=1"
   ]
  },
  {
   "cell_type": "code",
   "execution_count": null,
   "metadata": {},
   "outputs": [],
   "source": []
  }
 ],
 "metadata": {
  "kernelspec": {
   "display_name": "Python 3",
   "language": "python",
   "name": "python3"
  },
  "language_info": {
   "codemirror_mode": {
    "name": "ipython",
    "version": 3
   },
   "file_extension": ".py",
   "mimetype": "text/x-python",
   "name": "python",
   "nbconvert_exporter": "python",
   "pygments_lexer": "ipython3",
   "version": "3.8.3"
  }
 },
 "nbformat": 4,
 "nbformat_minor": 4
}
